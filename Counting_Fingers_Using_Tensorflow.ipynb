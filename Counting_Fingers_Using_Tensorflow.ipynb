{
  "nbformat": 4,
  "nbformat_minor": 0,
  "metadata": {
    "colab": {
      "name": "Counting Fingers Using Tensorflow",
      "provenance": []
    },
    "kernelspec": {
      "name": "python3",
      "display_name": "Python 3"
    }
  },
  "cells": [
    {
      "cell_type": "markdown",
      "metadata": {
        "id": "kH74PwxIWBJa",
        "colab_type": "text"
      },
      "source": [
        "# Counting Fingers using Tensorflow\n"
      ]
    },
    {
      "cell_type": "markdown",
      "metadata": {
        "id": "dctcEXiUWRds",
        "colab_type": "text"
      },
      "source": [
        "This project uses tensorflow API to count the number of fingers shown by hand."
      ]
    },
    {
      "cell_type": "markdown",
      "metadata": {
        "id": "FfaxaI0MWobG",
        "colab_type": "text"
      },
      "source": [
        "### 1. Importing the Libraries"
      ]
    },
    {
      "cell_type": "code",
      "metadata": {
        "id": "2dXbi-54V-FQ",
        "colab_type": "code",
        "colab": {
          "base_uri": "https://localhost:8080/",
          "height": 34
        },
        "outputId": "e7ea298a-ce19-4237-e263-2e7656dd7a10"
      },
      "source": [
        "import numpy as np\n",
        "import pandas as pd\n",
        "import tensorflow as tf\n",
        "from skimage import io, transform\n",
        "\n",
        "import os, glob\n",
        "\n",
        "from keras.models import Sequential\n",
        "from keras.layers import Dense, Conv2D, MaxPool2D, Dropout, Flatten\n",
        "\n",
        "from sklearn.model_selection import train_test_split\n",
        "print(\"Loaded...\")"
      ],
      "execution_count": 1,
      "outputs": [
        {
          "output_type": "stream",
          "text": [
            "Loaded...\n"
          ],
          "name": "stdout"
        }
      ]
    },
    {
      "cell_type": "markdown",
      "metadata": {
        "id": "ECRWBgX2V-oo",
        "colab_type": "text"
      },
      "source": [
        "### 2. Importing the dataset"
      ]
    },
    {
      "cell_type": "code",
      "metadata": {
        "id": "XqQdgJJ8XJU3",
        "colab_type": "code",
        "colab": {}
      },
      "source": [
        "train_img_list = glob.glob(\"../input/fingers/fingers/train/*.png\")\n",
        "test_img_list = glob.glob(\"../input/fingers/fingers/test/*.png\")\n",
        "print(len(train_img_list),\n",
        "     len(test_img_list), sep = '\\n')"
      ],
      "execution_count": null,
      "outputs": []
    },
    {
      "cell_type": "markdown",
      "metadata": {
        "id": "0PqiytN3XOE8",
        "colab_type": "text"
      },
      "source": [
        "### 3. PreProcessing the data "
      ]
    },
    {
      "cell_type": "code",
      "metadata": {
        "id": "tS4tfv4xXfvX",
        "colab_type": "code",
        "colab": {}
      },
      "source": [
        "def import_data():\n",
        "    train_img_data = []\n",
        "    test_img_data = []\n",
        "    train_label_data = []\n",
        "    test_label_data = []\n",
        "    \n",
        "    for img in train_img_list:\n",
        "        img_read = io.imread(img, channels = 1)\n",
        "        img_read = transform.resize(img_read, (128,128), mode = 'constant')\n",
        "        train_img_data.append(img_read)\n",
        "        train_label_data.append(img[-5])\n",
        "    \n",
        "    for img in test_img_list:\n",
        "        img_read = io.imread(img, channels = 1)\n",
        "        img_read = transform.resize(img_read, (128,128), mode = 'constant')\n",
        "        test_img_data.append(img_read)\n",
        "        test_label_data.append(img[-5])\n",
        "        \n",
        "    return np.array(train_img_data), np.array(test_img_data), np.array(train_label_data), np.array(test_label_data)\n",
        "    "
      ],
      "execution_count": null,
      "outputs": []
    },
    {
      "cell_type": "markdown",
      "metadata": {
        "id": "YxJZBDcOXqDX",
        "colab_type": "text"
      },
      "source": [
        "Here the values corresponding to each image is saved in the name of the image."
      ]
    },
    {
      "cell_type": "code",
      "metadata": {
        "id": "vIKrvzE2X4yN",
        "colab_type": "code",
        "colab": {
          "base_uri": "https://localhost:8080/",
          "height": 162
        },
        "outputId": "f8f044cd-3ed6-4c7f-a2ff-ff6b0bd084e4"
      },
      "source": [
        "xtrain, xtest, ytrain, ytest = import_data()"
      ],
      "execution_count": 2,
      "outputs": [
        {
          "output_type": "error",
          "ename": "NameError",
          "evalue": "ignored",
          "traceback": [
            "\u001b[0;31m---------------------------------------------------------------------------\u001b[0m",
            "\u001b[0;31mNameError\u001b[0m                                 Traceback (most recent call last)",
            "\u001b[0;32m<ipython-input-2-6f00f46098cf>\u001b[0m in \u001b[0;36m<module>\u001b[0;34m()\u001b[0m\n\u001b[0;32m----> 1\u001b[0;31m \u001b[0mxtrain\u001b[0m\u001b[0;34m,\u001b[0m \u001b[0mxtest\u001b[0m\u001b[0;34m,\u001b[0m \u001b[0mytrain\u001b[0m\u001b[0;34m,\u001b[0m \u001b[0mytest\u001b[0m \u001b[0;34m=\u001b[0m \u001b[0mimport_data\u001b[0m\u001b[0;34m(\u001b[0m\u001b[0;34m)\u001b[0m\u001b[0;34m\u001b[0m\u001b[0;34m\u001b[0m\u001b[0m\n\u001b[0m",
            "\u001b[0;31mNameError\u001b[0m: name 'import_data' is not defined"
          ]
        }
      ]
    },
    {
      "cell_type": "code",
      "metadata": {
        "id": "rdT4_8UtX-2O",
        "colab_type": "code",
        "colab": {}
      },
      "source": [
        "xtrain = xtrain.reshape(xtrain.shape[0], 128, 128, 1)\n",
        "xtest = xtest.reshape(xtest.shape[0], 128, 128, 1)\n",
        "\n",
        "ytrain = tf.keras.utils.to_categorical(ytrain, num_classes = 6)\n",
        "ytest = tf.keras.utils.to_categorical(ytest, num_classes = 6)\n",
        "print(xtrain.shape, xtest.shape, ytrain.shape, ytest.shape)"
      ],
      "execution_count": null,
      "outputs": []
    },
    {
      "cell_type": "code",
      "metadata": {
        "id": "_6ChQL2tYOFN",
        "colab_type": "code",
        "colab": {}
      },
      "source": [
        "x_train, x_test, y_train, y_test = train_test_split(xtrain, ytrain, test_size = 0.20, random_state = 7, shuffle = True)\n",
        "x_train_val, x_test_val, y_train_val, y_test_val = train_test_split(x_train, y_train, test_size = 0.20, random_state = 7, shuffle = True)"
      ],
      "execution_count": null,
      "outputs": []
    },
    {
      "cell_type": "markdown",
      "metadata": {
        "id": "0kgZjtBAYSGH",
        "colab_type": "text"
      },
      "source": [
        "### 4. The Neural network architecture "
      ]
    },
    {
      "cell_type": "code",
      "metadata": {
        "id": "uGwSZHZNYbI9",
        "colab_type": "code",
        "colab": {}
      },
      "source": [
        "model = Sequential()\n",
        "model.add(Conv2D(32, (3,3), input_shape = (128, 128, 1), activation = 'relu'))\n",
        "model.add(Conv2D(32, (3,3), activation = 'relu'))\n",
        "\n",
        "model.add(Conv2D(64, (3,3), activation = 'relu'))\n",
        "model.add(Conv2D(64, (3,3), activation = 'relu'))\n",
        "\n",
        "model.add(MaxPool2D((2,2)))\n",
        "\n",
        "model.add(Conv2D(128, (3,3), activation = 'relu'))\n",
        "model.add(Conv2D(128, (3,3), activation = 'relu'))\n",
        "\n",
        "model.add(Flatten())\n",
        "\n",
        "model.add(Dropout(0.40))\n",
        "model.add(Dense(256, activation = 'relu'))\n",
        "model.add(Dropout(0.40))\n",
        "model.add(Dense(6, activation = 'softmax'))\n",
        "\n",
        "model.summary()"
      ],
      "execution_count": null,
      "outputs": []
    },
    {
      "cell_type": "markdown",
      "metadata": {
        "id": "Btn6gVMtaCKp",
        "colab_type": "text"
      },
      "source": [
        "### 5. Model fitting"
      ]
    },
    {
      "cell_type": "code",
      "metadata": {
        "id": "KeF9sfpVZzlx",
        "colab_type": "code",
        "colab": {}
      },
      "source": [
        "model.compile('SGD', loss = 'categorical_crossentropy', metrics = ['accuracy'])\n",
        "model.fit(x = x_train, y = y_train, batch_size = 128, epochs = 10, validation_data = (x_test, y_test))"
      ],
      "execution_count": null,
      "outputs": []
    },
    {
      "cell_type": "markdown",
      "metadata": {
        "id": "jdQB4M3kaTLm",
        "colab_type": "text"
      },
      "source": [
        "### 6. Evaluating the model"
      ]
    },
    {
      "cell_type": "code",
      "metadata": {
        "id": "-wz_UruOZ7Ep",
        "colab_type": "code",
        "colab": {}
      },
      "source": [
        "pred = model.evaluate(xtest,\n",
        "                      ytest,\n",
        "                    batch_size = 128)\n",
        "\n",
        "print(\"Accuracy of model on test data is: \",pred[1]*100)"
      ],
      "execution_count": null,
      "outputs": []
    },
    {
      "cell_type": "markdown",
      "metadata": {
        "id": "cdCquwgeafQ-",
        "colab_type": "text"
      },
      "source": [
        "The model was able to count the number of fingers correctly with a high accuracy of 99%."
      ]
    }
  ]
}